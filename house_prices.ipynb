{
  "nbformat": 4,
  "nbformat_minor": 0,
  "metadata": {
    "colab": {
      "provenance": [],
      "authorship_tag": "ABX9TyPXtAjncVDyWmb6ZNEHPCXq",
      "include_colab_link": true
    },
    "kernelspec": {
      "name": "python3",
      "display_name": "Python 3"
    },
    "language_info": {
      "name": "python"
    }
  },
  "cells": [
    {
      "cell_type": "markdown",
      "metadata": {
        "id": "view-in-github",
        "colab_type": "text"
      },
      "source": [
        "<a href=\"https://colab.research.google.com/github/hiro106/kaggle_house-prices/blob/main/house_prices.ipynb\" target=\"_parent\"><img src=\"https://colab.research.google.com/assets/colab-badge.svg\" alt=\"Open In Colab\"/></a>"
      ]
    },
    {
      "cell_type": "markdown",
      "source": [
        "https://www.kaggle.com/competitions/house-prices-advanced-regression-techniques"
      ],
      "metadata": {
        "id": "qb5kRE7vLTAF"
      }
    },
    {
      "cell_type": "markdown",
      "source": [
        "# House Prices - Advanced Regression Techniques\n",
        "Predict sales prices and practice feature engineering, RFs, and gradient boosting"
      ],
      "metadata": {
        "id": "ozTwGEuOLqo7"
      }
    },
    {
      "cell_type": "markdown",
      "source": [
        "## Description"
      ],
      "metadata": {
        "id": "yI1x8h3_Lr02"
      }
    },
    {
      "cell_type": "markdown",
      "source": [
        "###Start here if...\n",
        "You have some experience with R or Python and machine learning basics. This is a perfect competition for data science students who have completed an online course in machine learning and are looking to expand their skill set before trying a featured competition."
      ],
      "metadata": {
        "id": "qDKRRLMcLrx-"
      }
    },
    {
      "cell_type": "markdown",
      "source": [
        "###Competition Description\n",
        "Ask a home buyer to describe their dream house, and they probably won't begin with the height of the basement ceiling or the proximity to an east-west railroad. But this playground competition's dataset proves that much more influences price negotiations than the number of bedrooms or a white-picket fence.\n",
        "\n",
        "With 79 explanatory variables describing (almost) every aspect of residential homes in Ames, Iowa, this competition challenges you to predict the final price of each home."
      ],
      "metadata": {
        "id": "mM9lILpGLrsk"
      }
    },
    {
      "cell_type": "markdown",
      "source": [
        "###Practice Skills\n",
        "*   Creative feature engineering \n",
        "*   Advanced regression techniques like random forest and gradient boosting\n",
        "\n"
      ],
      "metadata": {
        "id": "Vsto8uWPLrp1"
      }
    },
    {
      "cell_type": "markdown",
      "source": [
        "###Acknowledgments\n",
        "The Ames Housing dataset was compiled by Dean De Cock for use in data science education. It's an incredible alternative for data scientists looking for a modernized and expanded version of the often cited Boston Housing dataset. \n",
        "\n",
        "Photo by Tom Thain on Unsplash."
      ],
      "metadata": {
        "id": "O8824BTxLrnN"
      }
    },
    {
      "cell_type": "code",
      "source": [],
      "metadata": {
        "id": "KAoMZrpaLrkM"
      },
      "execution_count": null,
      "outputs": []
    },
    {
      "cell_type": "code",
      "source": [],
      "metadata": {
        "id": "FscDbrPnLrhv"
      },
      "execution_count": null,
      "outputs": []
    },
    {
      "cell_type": "code",
      "source": [],
      "metadata": {
        "id": "HwwRxg5FLre_"
      },
      "execution_count": null,
      "outputs": []
    },
    {
      "cell_type": "code",
      "source": [],
      "metadata": {
        "id": "SFp0ITAvLrcd"
      },
      "execution_count": null,
      "outputs": []
    },
    {
      "cell_type": "code",
      "source": [],
      "metadata": {
        "id": "q6Sjrr5fLrZu"
      },
      "execution_count": null,
      "outputs": []
    },
    {
      "cell_type": "code",
      "source": [],
      "metadata": {
        "id": "2vRaba3bLrXF"
      },
      "execution_count": null,
      "outputs": []
    },
    {
      "cell_type": "code",
      "source": [],
      "metadata": {
        "id": "Dcrdds3XLrUk"
      },
      "execution_count": null,
      "outputs": []
    },
    {
      "cell_type": "code",
      "source": [],
      "metadata": {
        "id": "xbO3lgLBLrSF"
      },
      "execution_count": null,
      "outputs": []
    },
    {
      "cell_type": "code",
      "source": [],
      "metadata": {
        "id": "xNNwGJNrLrPN"
      },
      "execution_count": null,
      "outputs": []
    },
    {
      "cell_type": "code",
      "source": [],
      "metadata": {
        "id": "XIwOz67XLrMg"
      },
      "execution_count": null,
      "outputs": []
    },
    {
      "cell_type": "code",
      "source": [],
      "metadata": {
        "id": "nXu7rWkcLrFO"
      },
      "execution_count": null,
      "outputs": []
    }
  ]
}