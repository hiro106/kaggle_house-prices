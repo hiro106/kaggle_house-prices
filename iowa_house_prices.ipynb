{
  "nbformat": 4,
  "nbformat_minor": 0,
  "metadata": {
    "colab": {
      "provenance": [],
      "collapsed_sections": [],
      "authorship_tag": "ABX9TyNS645YOcVHlHgSsvHgcCtD",
      "include_colab_link": true
    },
    "kernelspec": {
      "name": "python3",
      "display_name": "Python 3"
    },
    "language_info": {
      "name": "python"
    }
  },
  "cells": [
    {
      "cell_type": "markdown",
      "metadata": {
        "id": "view-in-github",
        "colab_type": "text"
      },
      "source": [
        "<a href=\"https://colab.research.google.com/github/hiro106/kaggle_house-prices/blob/main/house_prices.ipynb\" target=\"_parent\"><img src=\"https://colab.research.google.com/assets/colab-badge.svg\" alt=\"Open In Colab\"/></a>"
      ]
    },
    {
      "cell_type": "markdown",
      "source": [
        "https://www.kaggle.com/competitions/house-prices-advanced-regression-techniques"
      ],
      "metadata": {
        "id": "qb5kRE7vLTAF"
      }
    },
    {
      "cell_type": "markdown",
      "source": [
        "# House Prices - Advanced Regression Techniques\n",
        "Predict sales prices and practice feature engineering, RFs, and gradient boosting"
      ],
      "metadata": {
        "id": "ozTwGEuOLqo7"
      }
    },
    {
      "cell_type": "markdown",
      "source": [
        "## Description"
      ],
      "metadata": {
        "id": "yI1x8h3_Lr02"
      }
    },
    {
      "cell_type": "markdown",
      "source": [
        "###Start here if...\n",
        "You have some experience with R or Python and machine learning basics. This is a perfect competition for data science students who have completed an online course in machine learning and are looking to expand their skill set before trying a featured competition."
      ],
      "metadata": {
        "id": "qDKRRLMcLrx-"
      }
    },
    {
      "cell_type": "markdown",
      "source": [
        "###Competition Description\n",
        "Ask a home buyer to describe their dream house, and they probably won't begin with the height of the basement ceiling or the proximity to an east-west railroad. But this playground competition's dataset proves that much more influences price negotiations than the number of bedrooms or a white-picket fence.\n",
        "\n",
        "With 79 explanatory variables describing (almost) every aspect of residential homes in Ames, Iowa, this competition challenges you to predict the final price of each home."
      ],
      "metadata": {
        "id": "mM9lILpGLrsk"
      }
    },
    {
      "cell_type": "markdown",
      "source": [
        "###Practice Skills\n",
        "*   Creative feature engineering \n",
        "*   Advanced regression techniques like random forest and gradient boosting\n",
        "\n"
      ],
      "metadata": {
        "id": "Vsto8uWPLrp1"
      }
    },
    {
      "cell_type": "markdown",
      "source": [
        "###Acknowledgments\n",
        "The Ames Housing dataset was compiled by Dean De Cock for use in data science education. It's an incredible alternative for data scientists looking for a modernized and expanded version of the often cited Boston Housing dataset. \n",
        "\n",
        "Photo by Tom Thain on Unsplash."
      ],
      "metadata": {
        "id": "O8824BTxLrnN"
      }
    },
    {
      "cell_type": "markdown",
      "source": [
        "##Evaluation"
      ],
      "metadata": {
        "id": "KAoMZrpaLrkM"
      }
    },
    {
      "cell_type": "markdown",
      "source": [
        "###Goal\n",
        "It is your job to predict the sales price for each house. For each Id in the test set, you must predict the value of the SalePrice variable. "
      ],
      "metadata": {
        "id": "FscDbrPnLrhv"
      }
    },
    {
      "cell_type": "markdown",
      "source": [
        "###Metric\n",
        "Submissions are evaluated on Root-Mean-Squared-Error (RMSE) between the logarithm of the predicted value and the logarithm of the observed sales price. (Taking logs means that errors in predicting expensive houses and cheap houses will affect the result equally.)"
      ],
      "metadata": {
        "id": "HwwRxg5FLre_"
      }
    },
    {
      "cell_type": "markdown",
      "source": [
        "###Submission File Format\n",
        "The file should contain a header and have the following format:\n",
        "\n",
        "\n",
        "```\n",
        "Id,SalePrice\n",
        "1461,169000.1\n",
        "1462,187724.1233\n",
        "1463,175221\n",
        "etc.\n",
        "```\n",
        "\n"
      ],
      "metadata": {
        "id": "SFp0ITAvLrcd"
      }
    },
    {
      "cell_type": "markdown",
      "source": [
        "##Dataset Description"
      ],
      "metadata": {
        "id": "q6Sjrr5fLrZu"
      }
    },
    {
      "cell_type": "markdown",
      "source": [
        "###File descriptions\n"
      ],
      "metadata": {
        "id": "2vRaba3bLrXF"
      }
    },
    {
      "cell_type": "markdown",
      "source": [
        "\n",
        "\n",
        "*   **train.csv** - the training set\n",
        "*   **test.csv** - the test set\n",
        "*   **data_description.txt** - full description of each column, originally prepared by Dean De Cock but lightly edited to match the column names used here\n",
        "*   **sample_submission.csv** - a benchmark submission from a linear regression on year and month of sale, lot square footage, and number of bedrooms\n",
        "\n"
      ],
      "metadata": {
        "id": "Dcrdds3XLrUk"
      }
    },
    {
      "cell_type": "markdown",
      "source": [
        "###Data fields\n",
        "Here's a brief version of what you'll find in the data description file.\n",
        "\n",
        "* **SalePrice** - the property's sale price in dollars. This is the target variable that you're trying to predict.\n",
        "* **MSSubClass**: The building class\n",
        "* **MSZoning**: The general zoning classification\n",
        "* **LotFrontage**: Linear feet of street connected to property\n",
        "* **LotArea**: Lot size in square feet\n",
        "* **Street**: Type of road access\n",
        "* **Alley**: Type of alley access\n",
        "* **LotShape**: General shape of property\n",
        "* **LandContour**: Flatness of the property\n",
        "* **Utilities**: Type of utilities available\n",
        "* **LotConfig**: Lot configuration\n",
        "* **LandSlope**: Slope of property\n",
        "* **Neighborhood**: Physical locations within Ames city limits\n",
        "* **Condition1**: Proximity to main road or railroad\n",
        "* **Condition2**: Proximity to main road or railroad (if a second is present)\n",
        "* **BldgType**: Type of dwelling\n",
        "* **HouseStyle**: Style of dwelling"
      ],
      "metadata": {
        "id": "xbO3lgLBLrSF"
      }
    },
    {
      "cell_type": "markdown",
      "source": [],
      "metadata": {
        "id": "vSKyoqDXYBqj"
      }
    },
    {
      "cell_type": "markdown",
      "source": [],
      "metadata": {
        "id": "oBU7a6drYBnj"
      }
    },
    {
      "cell_type": "markdown",
      "source": [],
      "metadata": {
        "id": "5xlW_wEbYBkT"
      }
    },
    {
      "cell_type": "markdown",
      "source": [],
      "metadata": {
        "id": "Gzdzsz2RYBha"
      }
    },
    {
      "cell_type": "markdown",
      "source": [],
      "metadata": {
        "id": "iEccc3GXYBZx"
      }
    },
    {
      "cell_type": "code",
      "source": [],
      "metadata": {
        "id": "xNNwGJNrLrPN"
      },
      "execution_count": null,
      "outputs": []
    },
    {
      "cell_type": "code",
      "source": [],
      "metadata": {
        "id": "XIwOz67XLrMg"
      },
      "execution_count": null,
      "outputs": []
    },
    {
      "cell_type": "code",
      "source": [],
      "metadata": {
        "id": "nXu7rWkcLrFO"
      },
      "execution_count": null,
      "outputs": []
    }
  ]
}
